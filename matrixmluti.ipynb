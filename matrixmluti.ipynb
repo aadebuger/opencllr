{
 "cells": [
  {
   "cell_type": "code",
   "execution_count": 1,
   "metadata": {
    "ExecuteTime": {
     "end_time": "2018-11-24T22:32:17.212222Z",
     "start_time": "2018-11-24T22:32:16.926569Z"
    }
   },
   "outputs": [],
   "source": [
    "import pyopencl as cl\n",
    "import numpy as np\n",
    "\n",
    "import os\n",
    "os.environ['PYOPENCL_COMPILER_OUTPUT'] = '1'\n",
    "os.environ['PYOPENCL_CTX'] = '1'\n",
    "\n",
    "(n, m, p) = (3, 4, 5)\n",
    "\n",
    "# a = np.random.randn(n, m).astype(np.float32)\n",
    "# b = np.random.randn(m, p).astype(np.float32)\n",
    "a = np.random.randint(2, size=(n*m))\n",
    "b = np.random.randint(2, size=(m*p))\n",
    "c = np.zeros((n*p), dtype=np.float32)\n",
    "\n",
    "a = a.astype(np.float32)\n",
    "b = b.astype(np.float32)"
   ]
  },
  {
   "cell_type": "code",
   "execution_count": 3,
   "metadata": {
    "ExecuteTime": {
     "end_time": "2018-11-24T22:36:25.206686Z",
     "start_time": "2018-11-24T22:36:25.153518Z"
    }
   },
   "outputs": [],
   "source": [
    "ctx = cl.Context(dev_type=cl.device_type.ALL)\n",
    "queue = cl.CommandQueue(ctx)\n"
   ]
  },
  {
   "cell_type": "code",
   "execution_count": 4,
   "metadata": {
    "ExecuteTime": {
     "end_time": "2018-11-24T22:36:44.861729Z",
     "start_time": "2018-11-24T22:36:44.847659Z"
    }
   },
   "outputs": [],
   "source": [
    "mf = cl.mem_flags\n",
    "a_buf = cl.Buffer(ctx, mf.READ_ONLY | mf.COPY_HOST_PTR, hostbuf=a)\n",
    "b_buf = cl.Buffer(ctx, mf.READ_ONLY | mf.COPY_HOST_PTR, hostbuf=b)\n",
    "c_buf = cl.Buffer(ctx, mf.WRITE_ONLY, c.nbytes)"
   ]
  },
  {
   "cell_type": "code",
   "execution_count": 5,
   "metadata": {
    "ExecuteTime": {
     "end_time": "2018-11-24T22:36:54.933979Z",
     "start_time": "2018-11-24T22:36:54.281921Z"
    }
   },
   "outputs": [],
   "source": [
    "prg = cl.Program(ctx, \"\"\"\n",
    "    __kernel void multiply(ushort n,\n",
    "    ushort m, ushort p, __global float *a,\n",
    "    __global float *b, __global float *c)\n",
    "    {\n",
    "      int gid = get_global_id(0);\n",
    "      c[gid] = 0.0f;\n",
    "      int rowC = gid/p;\n",
    "      int colC = gid%p;\n",
    "      __global float *pA = &a[rowC*m];\n",
    "      __global float *pB = &b[colC];\n",
    "      for(int k=0; k<m; k++)\n",
    "      {\n",
    "         pB = &b[colC+k*p];\n",
    "         c[gid] += (*(pA++))*(*pB);\n",
    "      }\n",
    "    }\n",
    "    \"\"\").build()"
   ]
  },
  {
   "cell_type": "code",
   "execution_count": 6,
   "metadata": {
    "ExecuteTime": {
     "end_time": "2018-11-24T22:37:03.010081Z",
     "start_time": "2018-11-24T22:37:02.977963Z"
    }
   },
   "outputs": [
    {
     "data": {
      "text/plain": [
       "<pyopencl._cl.NannyEvent at 0x115db8410>"
      ]
     },
     "execution_count": 6,
     "metadata": {},
     "output_type": "execute_result"
    }
   ],
   "source": [
    "prg.multiply(queue, c.shape, None,\n",
    "             np.uint16(n), np.uint16(m), np.uint16(p),\n",
    "             a_buf, b_buf, c_buf)\n",
    "\n",
    "a_mul_b = np.empty_like(c)\n",
    "cl.enqueue_copy(queue, a_mul_b, c_buf)"
   ]
  },
  {
   "cell_type": "code",
   "execution_count": 7,
   "metadata": {
    "ExecuteTime": {
     "end_time": "2018-11-24T22:37:30.177477Z",
     "start_time": "2018-11-24T22:37:30.161553Z"
    }
   },
   "outputs": [
    {
     "name": "stdout",
     "output_type": "stream",
     "text": [
      "[[0. 1. 1. 0.]\n",
      " [1. 1. 0. 0.]\n",
      " [1. 0. 1. 1.]]\n"
     ]
    }
   ],
   "source": [
    "print(a.reshape(n, m))"
   ]
  },
  {
   "cell_type": "code",
   "execution_count": 8,
   "metadata": {
    "ExecuteTime": {
     "end_time": "2018-11-24T22:37:42.488271Z",
     "start_time": "2018-11-24T22:37:42.480893Z"
    }
   },
   "outputs": [
    {
     "name": "stdout",
     "output_type": "stream",
     "text": [
      "[[0. 1. 1. 0. 0.]\n",
      " [1. 1. 1. 1. 0.]\n",
      " [0. 1. 1. 0. 1.]\n",
      " [0. 1. 1. 0. 0.]]\n"
     ]
    }
   ],
   "source": [
    "print(b.reshape(m, p))"
   ]
  },
  {
   "cell_type": "code",
   "execution_count": 9,
   "metadata": {
    "ExecuteTime": {
     "end_time": "2018-11-24T22:37:51.858964Z",
     "start_time": "2018-11-24T22:37:51.853411Z"
    }
   },
   "outputs": [
    {
     "name": "stdout",
     "output_type": "stream",
     "text": [
      "[[1. 2. 2. 1. 1.]\n",
      " [1. 2. 2. 1. 0.]\n",
      " [0. 3. 3. 0. 1.]]\n"
     ]
    }
   ],
   "source": [
    "print(a_mul_b.reshape(n, p))"
   ]
  },
  {
   "cell_type": "code",
   "execution_count": null,
   "metadata": {},
   "outputs": [],
   "source": []
  }
 ],
 "metadata": {
  "kernelspec": {
   "display_name": "Python 3",
   "language": "python",
   "name": "python3"
  },
  "language_info": {
   "codemirror_mode": {
    "name": "ipython",
    "version": 3
   },
   "file_extension": ".py",
   "mimetype": "text/x-python",
   "name": "python",
   "nbconvert_exporter": "python",
   "pygments_lexer": "ipython3",
   "version": "3.6.5"
  }
 },
 "nbformat": 4,
 "nbformat_minor": 2
}
