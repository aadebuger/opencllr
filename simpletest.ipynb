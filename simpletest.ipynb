{
 "cells": [
  {
   "cell_type": "code",
   "execution_count": 8,
   "metadata": {
    "ExecuteTime": {
     "end_time": "2018-11-22T20:53:36.304647Z",
     "start_time": "2018-11-22T20:53:36.272233Z"
    }
   },
   "outputs": [
    {
     "name": "stdout",
     "output_type": "stream",
     "text": [
      "\n",
      "============================================================\n",
      "OpenCL Platforms and Devices\n",
      "============================================================\n",
      "Platform - Name:  Apple\n",
      "Platform - Vendor:  Apple\n",
      "Platform - Version:  OpenCL 1.2 (Nov  1 2018 22:59:11)\n",
      "Platform - Profile:  FULL_PROFILE\n",
      "    --------------------------------------------------------\n",
      "    Device - Name:  Intel(R) Core(TM) i5-6267U CPU @ 2.90GHz\n",
      "    Device - Type:  CPU\n",
      "    Device - Max Clock Speed:  2900 Mhz\n",
      "    Device - Compute Units:  4\n",
      "    Device - Local Memory:  32 KB\n",
      "    Device - Constant Memory:  64 KB\n",
      "    Device - Global Memory: 8 GB\n",
      "    Device - Max Buffer/Image Size: 2048 MB\n",
      "    Device - Max Work Group Size: 1024\n",
      "    --------------------------------------------------------\n",
      "    Device - Name:  Intel(R) Iris(TM) Graphics 550\n",
      "    Device - Type:  GPU\n",
      "    Device - Max Clock Speed:  1050 Mhz\n",
      "    Device - Compute Units:  48\n",
      "    Device - Local Memory:  64 KB\n",
      "    Device - Constant Memory:  64 KB\n",
      "    Device - Global Memory: 2 GB\n",
      "    Device - Max Buffer/Image Size: 384 MB\n",
      "    Device - Max Work Group Size: 256\n",
      "\n",
      "\n"
     ]
    }
   ],
   "source": [
    "import pyopencl as cl\n",
    "\n",
    "print('\\n' + '=' * 60 + '\\nOpenCL Platforms and Devices')\n",
    "# Print each platform on this computer\n",
    "for platform in cl.get_platforms():\n",
    "    print('=' * 60)\n",
    "    print('Platform - Name:  ' + platform.name)\n",
    "    print('Platform - Vendor:  ' + platform.vendor)\n",
    "    print('Platform - Version:  ' + platform.version)\n",
    "    print('Platform - Profile:  ' + platform.profile)\n",
    "    # Print each device per-platform\n",
    "    for device in platform.get_devices():\n",
    "        print('    ' + '-' * 56)\n",
    "        print('    Device - Name:  ' + device.name)\n",
    "        print('    Device - Type:  ' + cl.device_type.to_string(device.type))\n",
    "        print('    Device - Max Clock Speed:  {0} Mhz'.format(device.max_clock_frequency))\n",
    "        print('    Device - Compute Units:  {0}'.format(device.max_compute_units))\n",
    "        print('    Device - Local Memory:  {0:.0f} KB'.format(device.local_mem_size/1024.0))\n",
    "        print('    Device - Constant Memory:  {0:.0f} KB'.format(device.max_constant_buffer_size/1024.0))\n",
    "        print('    Device - Global Memory: {0:.0f} GB'.format(device.global_mem_size/1073741824.0))\n",
    "        print('    Device - Max Buffer/Image Size: {0:.0f} MB'.format(device.max_mem_alloc_size/1048576.0))\n",
    "        print('    Device - Max Work Group Size: {0:.0f}'.format(device.max_work_group_size))\n",
    "print('\\n')"
   ]
  },
  {
   "cell_type": "code",
   "execution_count": 2,
   "metadata": {
    "ExecuteTime": {
     "end_time": "2018-11-22T19:47:23.591057Z",
     "start_time": "2018-11-22T19:47:23.334565Z"
    }
   },
   "outputs": [
    {
     "name": "stdout",
     "output_type": "stream",
     "text": [
      "a: [0.02657887 0.20581935 0.8030059  ... 0.10739549 0.43004036 0.02984072]\n",
      "b: [0.3135244  0.6525915  0.7775094  ... 0.7999829  0.62553287 0.9934734 ]\n",
      "c: [0.34010327 0.8584109  1.5805153  ... 0.9073784  1.0555732  1.0233141 ]\n"
     ]
    }
   ],
   "source": [
    "import pyopencl as cl  # Import the OpenCL GPU computing API\n",
    "import pyopencl.array as pycl_array  # Import PyOpenCL Array (a Numpy array plus an OpenCL buffer object)\n",
    "import numpy as np  # Import Numpy number tools\n",
    "\n",
    "context = cl.create_some_context()  # Initialize the Context\n",
    "queue = cl.CommandQueue(context)  # Instantiate a Queue\n",
    "\n",
    "a = pycl_array.to_device(queue, np.random.rand(50000).astype(np.float32))\n",
    "b = pycl_array.to_device(queue, np.random.rand(50000).astype(np.float32))  \n",
    "# Create two random pyopencl arrays\n",
    "c = pycl_array.empty_like(a)  # Create an empty pyopencl destination array\n",
    "\n",
    "program = cl.Program(context, \"\"\"\n",
    "__kernel void sum(__global const float *a, __global const float *b, __global float *c)\n",
    "{\n",
    "  int i = get_global_id(0);\n",
    "  c[i] = a[i] + b[i];\n",
    "}\"\"\").build()  # Create the OpenCL program\n",
    "\n",
    "program.sum(queue, a.shape, None, a.data, b.data, c.data)  # Enqueue the program for execution and store the result in c\n",
    "\n",
    "print(\"a: {}\".format(a))\n",
    "print(\"b: {}\".format(b))\n",
    "print(\"c: {}\".format(c))  \n",
    "# Print all three arrays, to show sum() worked"
   ]
  },
  {
   "cell_type": "code",
   "execution_count": 3,
   "metadata": {
    "ExecuteTime": {
     "end_time": "2018-11-22T19:48:19.839847Z",
     "start_time": "2018-11-22T19:48:19.756448Z"
    }
   },
   "outputs": [
    {
     "name": "stdout",
     "output_type": "stream",
     "text": [
      "[0.29906932 0.8947599  0.5322717  ... 0.79795766 0.37053096 0.1336597 ]\n",
      "[0.55305034 0.6977554  0.23891568 ... 0.49413458 0.97878355 0.41676253]\n",
      "[0. 0. 0. ... 0. 0. 0.]\n"
     ]
    }
   ],
   "source": [
    "# Use OpenCL To Add Two Random Arrays (This Way Shows Details)\n",
    "\n",
    "import pyopencl as cl  # Import the OpenCL GPU computing API\n",
    "import numpy as np  # Import Np number tools\n",
    "\n",
    "platform = cl.get_platforms()[0]  # Select the first platform [0]\n",
    "device = platform.get_devices()[0]  # Select the first device on this platform [0]\n",
    "context = cl.Context([device])  # Create a context with your device\n",
    "queue = cl.CommandQueue(context)  # Create a command queue with your context\n",
    "\n",
    "np_a = np.random.rand(50000).astype(np.float32)  # Create a random np array\n",
    "np_b = np.random.rand(50000).astype(np.float32)  # Create a random np array\n",
    "np_c = np.empty_like(np_a)  # Create an empty destination array\n",
    "\n",
    "cl_a = cl.Buffer(context, cl.mem_flags.COPY_HOST_PTR, hostbuf=np_a)\n",
    "cl_b = cl.Buffer(context, cl.mem_flags.COPY_HOST_PTR, hostbuf=np_b)\n",
    "cl_c = cl.Buffer(context, cl.mem_flags.WRITE_ONLY, np_c.nbytes)\n",
    "# Create three buffers (plans for areas of memory on the device)\n",
    "\n",
    "kernel = \"\"\"__kernel void sum(__global float* a, __global float* b, __global float* c)\n",
    "{\n",
    "    int i = get_global_id(0);\n",
    "    c[i] = a[i] + b[i];\n",
    "}\"\"\"  # Create a kernel (a string containing C-like OpenCL device code)\n",
    "\n",
    "program = cl.Program(context, kernel).build()\n",
    "# Compile the kernel code into an executable OpenCL program\n",
    "\n",
    "program.sum(queue, np_a.shape, None, cl_a, cl_b, cl_c)\n",
    "# Enqueue the program for execution, causing data to be copied to the device\n",
    "#  - queue: the command queue the program will be sent to\n",
    "#  - np_a.shape: a tuple of the arrays' dimensions\n",
    "#  - cl_a, cl_b, cl_c: the memory spaces this program deals with\n",
    "\n",
    "np_arrays = [np_a, np_b, np_c]\n",
    "cl_arrays = [cl_a, cl_b, cl_c]\n",
    "\n",
    "for x in range(3):\n",
    "    cl.enqueue_copy(queue, cl_arrays[x], np_arrays[x])\n",
    "queue.finish()\n",
    "# Copy the data for array c back to the host\n",
    "\n",
    "for x in np_arrays:\n",
    "\tprint(x)\n",
    "# Print all three host arrays, to show sum() worked"
   ]
  },
  {
   "cell_type": "code",
   "execution_count": 4,
   "metadata": {
    "ExecuteTime": {
     "end_time": "2018-11-22T19:48:34.035295Z",
     "start_time": "2018-11-22T19:48:33.766932Z"
    }
   },
   "outputs": [
    {
     "name": "stdout",
     "output_type": "stream",
     "text": [
      "[0.09469098 0.91063225 0.85510343 ... 0.8622474  0.9047812  0.7794772 ]\n",
      "[0.18540546 0.8189802  0.375872   ... 0.21538188 0.13436179 0.7985478 ]\n",
      "[0. 0. 0. ... 0. 0. 0.]\n"
     ]
    }
   ],
   "source": [
    "# Use OpenCL To Add Two Random Arrays (This Way Shows Details)\n",
    "\n",
    "import pyopencl as cl  # Import the OpenCL GPU computing API\n",
    "import numpy as np  # Import Np number tools\n",
    "\n",
    "platform = cl.get_platforms()[0]  # Select the first platform [0]\n",
    "device = platform.get_devices()[1]  # Select the first device on this platform [0]\n",
    "context = cl.Context([device])  # Create a context with your device\n",
    "queue = cl.CommandQueue(context)  # Create a command queue with your context\n",
    "\n",
    "np_a = np.random.rand(50000).astype(np.float32)  # Create a random np array\n",
    "np_b = np.random.rand(50000).astype(np.float32)  # Create a random np array\n",
    "np_c = np.empty_like(np_a)  # Create an empty destination array\n",
    "\n",
    "cl_a = cl.Buffer(context, cl.mem_flags.COPY_HOST_PTR, hostbuf=np_a)\n",
    "cl_b = cl.Buffer(context, cl.mem_flags.COPY_HOST_PTR, hostbuf=np_b)\n",
    "cl_c = cl.Buffer(context, cl.mem_flags.WRITE_ONLY, np_c.nbytes)\n",
    "# Create three buffers (plans for areas of memory on the device)\n",
    "\n",
    "kernel = \"\"\"__kernel void sum(__global float* a, __global float* b, __global float* c)\n",
    "{\n",
    "    int i = get_global_id(0);\n",
    "    c[i] = a[i] + b[i];\n",
    "}\"\"\"  # Create a kernel (a string containing C-like OpenCL device code)\n",
    "\n",
    "program = cl.Program(context, kernel).build()\n",
    "# Compile the kernel code into an executable OpenCL program\n",
    "\n",
    "program.sum(queue, np_a.shape, None, cl_a, cl_b, cl_c)\n",
    "# Enqueue the program for execution, causing data to be copied to the device\n",
    "#  - queue: the command queue the program will be sent to\n",
    "#  - np_a.shape: a tuple of the arrays' dimensions\n",
    "#  - cl_a, cl_b, cl_c: the memory spaces this program deals with\n",
    "\n",
    "np_arrays = [np_a, np_b, np_c]\n",
    "cl_arrays = [cl_a, cl_b, cl_c]\n",
    "\n",
    "for x in range(3):\n",
    "    cl.enqueue_copy(queue, cl_arrays[x], np_arrays[x])\n",
    "queue.finish()\n",
    "# Copy the data for array c back to the host\n",
    "\n",
    "for x in np_arrays:\n",
    "\tprint(x)\n",
    "# Print all three host arrays, to show sum() worked"
   ]
  },
  {
   "cell_type": "code",
   "execution_count": 5,
   "metadata": {
    "ExecuteTime": {
     "end_time": "2018-11-22T19:49:21.827604Z",
     "start_time": "2018-11-22T19:49:21.035482Z"
    }
   },
   "outputs": [
    {
     "name": "stdout",
     "output_type": "stream",
     "text": [
      "CPU Time: 0.5267820358276367 s\n",
      "GPU Kernel Time: 0.000281148 s\n"
     ]
    },
    {
     "ename": "AttributeError",
     "evalue": "module 'pyopencl' has no attribute 'enqueue_read_buffer'",
     "output_type": "error",
     "traceback": [
      "\u001b[0;31m---------------------------------------------------------------------------\u001b[0m",
      "\u001b[0;31mAttributeError\u001b[0m                            Traceback (most recent call last)",
      "\u001b[0;32m<ipython-input-5-953a49b2c690>\u001b[0m in \u001b[0;36m<module>\u001b[0;34m\u001b[0m\n\u001b[1;32m     47\u001b[0m \u001b[0;34m\u001b[0m\u001b[0m\n\u001b[1;32m     48\u001b[0m \u001b[0mcpu_array_sum\u001b[0m\u001b[0;34m(\u001b[0m\u001b[0ma\u001b[0m\u001b[0;34m,\u001b[0m \u001b[0mb\u001b[0m\u001b[0;34m)\u001b[0m  \u001b[0;31m# Call the function that sums two arrays on the CPU\u001b[0m\u001b[0;34m\u001b[0m\u001b[0m\n\u001b[0;32m---> 49\u001b[0;31m \u001b[0mgpu_array_sum\u001b[0m\u001b[0;34m(\u001b[0m\u001b[0ma\u001b[0m\u001b[0;34m,\u001b[0m \u001b[0mb\u001b[0m\u001b[0;34m)\u001b[0m  \u001b[0;31m# Call the function that sums two arrays on the GPU\u001b[0m\u001b[0;34m\u001b[0m\u001b[0m\n\u001b[0m",
      "\u001b[0;32m<ipython-input-5-953a49b2c690>\u001b[0m in \u001b[0;36mgpu_array_sum\u001b[0;34m(a, b)\u001b[0m\n\u001b[1;32m     41\u001b[0m     \u001b[0mprint\u001b[0m\u001b[0;34m(\u001b[0m\u001b[0;34m\"GPU Kernel Time: {0} s\"\u001b[0m\u001b[0;34m.\u001b[0m\u001b[0mformat\u001b[0m\u001b[0;34m(\u001b[0m\u001b[0melapsed\u001b[0m\u001b[0;34m)\u001b[0m\u001b[0;34m)\u001b[0m  \u001b[0;31m# Print the time it took to execute the kernel\u001b[0m\u001b[0;34m\u001b[0m\u001b[0m\n\u001b[1;32m     42\u001b[0m     \u001b[0mc_gpu\u001b[0m \u001b[0;34m=\u001b[0m \u001b[0mnp\u001b[0m\u001b[0;34m.\u001b[0m\u001b[0mempty_like\u001b[0m\u001b[0;34m(\u001b[0m\u001b[0ma\u001b[0m\u001b[0;34m)\u001b[0m  \u001b[0;31m# Create an empty array the same size as array a\u001b[0m\u001b[0;34m\u001b[0m\u001b[0m\n\u001b[0;32m---> 43\u001b[0;31m     \u001b[0mcl\u001b[0m\u001b[0;34m.\u001b[0m\u001b[0menqueue_read_buffer\u001b[0m\u001b[0;34m(\u001b[0m\u001b[0mqueue\u001b[0m\u001b[0;34m,\u001b[0m \u001b[0mc_buffer\u001b[0m\u001b[0;34m,\u001b[0m \u001b[0mc_gpu\u001b[0m\u001b[0;34m)\u001b[0m\u001b[0;34m.\u001b[0m\u001b[0mwait\u001b[0m\u001b[0;34m(\u001b[0m\u001b[0;34m)\u001b[0m  \u001b[0;31m# Read back the data from GPU memory into array c_gpu\u001b[0m\u001b[0;34m\u001b[0m\u001b[0m\n\u001b[0m\u001b[1;32m     44\u001b[0m     \u001b[0mgpu_end_time\u001b[0m \u001b[0;34m=\u001b[0m \u001b[0mtime\u001b[0m\u001b[0;34m(\u001b[0m\u001b[0;34m)\u001b[0m  \u001b[0;31m# Get the GPU end time\u001b[0m\u001b[0;34m\u001b[0m\u001b[0m\n\u001b[1;32m     45\u001b[0m     \u001b[0mprint\u001b[0m\u001b[0;34m(\u001b[0m\u001b[0;34m\"GPU Time: {0} s\"\u001b[0m\u001b[0;34m.\u001b[0m\u001b[0mformat\u001b[0m\u001b[0;34m(\u001b[0m\u001b[0mgpu_end_time\u001b[0m \u001b[0;34m-\u001b[0m \u001b[0mgpu_start_time\u001b[0m\u001b[0;34m)\u001b[0m\u001b[0;34m)\u001b[0m  \u001b[0;31m# Print the time the GPU program took, including both memory copies\u001b[0m\u001b[0;34m\u001b[0m\u001b[0m\n",
      "\u001b[0;31mAttributeError\u001b[0m: module 'pyopencl' has no attribute 'enqueue_read_buffer'"
     ]
    }
   ],
   "source": [
    "\n",
    "# Test the speed of your PyOpenCL program\n",
    "from time import time  # Import time tools\n",
    "\n",
    "import pyopencl as cl  # Import the OpenCL GPU computing API\n",
    "import numpy as np  # Import number tools\n",
    " \n",
    "a = np.random.rand(1000).astype(np.float32)  # Create a random array to add\n",
    "b = np.random.rand(1000).astype(np.float32)  # Create a random array to add\n",
    "\n",
    "def cpu_array_sum(a, b):  # Sum two arrays on the CPU\n",
    "    c_cpu = np.empty_like(a)  # Create the destination array\n",
    "    cpu_start_time = time()  # Get the CPU start time\n",
    "    for i in range(1000):\n",
    "            for j in range(1000):  # 1000 times add each number and store it\n",
    "                    c_cpu[i] = a[i] + b[i]  # This add operation happens 1,000,000 times XXX\n",
    "    cpu_end_time = time()  # Get the CPU end time\n",
    "    print(\"CPU Time: {0} s\".format(cpu_end_time - cpu_start_time))  # Print how long the CPU took\n",
    "    return c_cpu  # Return the sum of the arrays\n",
    "\n",
    "def gpu_array_sum(a, b):\n",
    "    context = cl.create_some_context()  # Initialize the Context\n",
    "    queue = cl.CommandQueue(context, properties=cl.command_queue_properties.PROFILING_ENABLE)  # Instantiate a Queue with profiling (timing) enabled\n",
    "    a_buffer = cl.Buffer(context, cl.mem_flags.READ_ONLY | cl.mem_flags.COPY_HOST_PTR, hostbuf=a)\n",
    "    b_buffer = cl.Buffer(context, cl.mem_flags.READ_ONLY | cl.mem_flags.COPY_HOST_PTR, hostbuf=b)\n",
    "    c_buffer = cl.Buffer(context, cl.mem_flags.WRITE_ONLY, b.nbytes)  # Create three buffers (plans for areas of memory on the device)\n",
    "    program = cl.Program(context, \"\"\"\n",
    "    __kernel void sum(__global const float *a, __global const float *b, __global float *c)\n",
    "    {\n",
    "        int i = get_global_id(0);\n",
    "        int j;\n",
    "        for(j = 0; j < 1000; j++)\n",
    "        {\n",
    "            c[i] = a[i] + b[i];\n",
    "        }\n",
    "    }\"\"\").build()  # Compile the device program\n",
    "    gpu_start_time = time()  # Get the GPU start time\n",
    "    event = program.sum(queue, a.shape, None, a_buffer, b_buffer, c_buffer)  # Enqueue the GPU sum program XXX\n",
    "    event.wait()  # Wait until the event finishes XXX\n",
    "    elapsed = 1e-9*(event.profile.end - event.profile.start)  # Calculate the time it took to execute the kernel\n",
    "    print(\"GPU Kernel Time: {0} s\".format(elapsed))  # Print the time it took to execute the kernel\n",
    "    c_gpu = np.empty_like(a)  # Create an empty array the same size as array a\n",
    "    cl.enqueue_read_buffer(queue, c_buffer, c_gpu).wait()  # Read back the data from GPU memory into array c_gpu\n",
    "    gpu_end_time = time()  # Get the GPU end time\n",
    "    print(\"GPU Time: {0} s\".format(gpu_end_time - gpu_start_time))  # Print the time the GPU program took, including both memory copies\n",
    "    return c_gpu  # Return the sum of the two arrays\n",
    "\n",
    "cpu_array_sum(a, b)  # Call the function that sums two arrays on the CPU\n",
    "gpu_array_sum(a, b)  # Call the function that sums two arrays on the GPU"
   ]
  },
  {
   "cell_type": "code",
   "execution_count": 7,
   "metadata": {
    "ExecuteTime": {
     "end_time": "2018-11-22T20:53:12.699600Z",
     "start_time": "2018-11-22T20:53:12.611264Z"
    }
   },
   "outputs": [
    {
     "name": "stdout",
     "output_type": "stream",
     "text": [
      "(10,)\n"
     ]
    },
    {
     "ename": "RuntimeError",
     "evalue": "clBuildProgram failed: BUILD_PROGRAM_FAILURE - clBuildProgram failed: BUILD_PROGRAM_FAILURE - clBuildProgram failed: BUILD_PROGRAM_FAILURE\n\nBuild on <pyopencl.Device 'Intel(R) Core(TM) i5-6267U CPU @ 2.90GHz' on 'Apple' at 0xffffffff>:\n\n\n(options: -I /Volumes/G-DRIVE/openclvenv3/lib/python3.6/site-packages/pyopencl/cl)\n(source saved as /var/folders/75/c7jj66b91pj281kdc3hrn5_r0000gn/T/tmpeyjw8rxj.cl)",
     "output_type": "error",
     "traceback": [
      "\u001b[0;31m---------------------------------------------------------------------------\u001b[0m",
      "\u001b[0;31mAttributeError\u001b[0m                            Traceback (most recent call last)",
      "\u001b[0;32m~/GEXT/openclvenv3/lib/python3.6/site-packages/pytools/__init__.py\u001b[0m in \u001b[0;36mwrapper\u001b[0;34m(obj, *args, **kwargs)\u001b[0m\n\u001b[1;32m    595\u001b[0m         \u001b[0;32mtry\u001b[0m\u001b[0;34m:\u001b[0m\u001b[0;34m\u001b[0m\u001b[0m\n\u001b[0;32m--> 596\u001b[0;31m             \u001b[0;32mreturn\u001b[0m \u001b[0mgetattr\u001b[0m\u001b[0;34m(\u001b[0m\u001b[0mobj\u001b[0m\u001b[0;34m,\u001b[0m \u001b[0mcache_dict_name\u001b[0m\u001b[0;34m)\u001b[0m\u001b[0;34m[\u001b[0m\u001b[0mkey\u001b[0m\u001b[0;34m]\u001b[0m\u001b[0;34m\u001b[0m\u001b[0m\n\u001b[0m\u001b[1;32m    597\u001b[0m         \u001b[0;32mexcept\u001b[0m \u001b[0mAttributeError\u001b[0m\u001b[0;34m:\u001b[0m\u001b[0;34m\u001b[0m\u001b[0m\n",
      "\u001b[0;31mAttributeError\u001b[0m: 'ElementwiseKernel' object has no attribute '_memoize_dic_get_kernel'",
      "\nDuring handling of the above exception, another exception occurred:\n",
      "\u001b[0;31mRuntimeError\u001b[0m                              Traceback (most recent call last)",
      "\u001b[0;32m<ipython-input-7-9635b249961e>\u001b[0m in \u001b[0;36m<module>\u001b[0;34m\u001b[0m\n\u001b[1;32m     19\u001b[0m \u001b[0;31m#  - Name: the fuction name as which the kernel is compiled\u001b[0m\u001b[0;34m\u001b[0m\u001b[0;34m\u001b[0m\u001b[0m\n\u001b[1;32m     20\u001b[0m \u001b[0;34m\u001b[0m\u001b[0m\n\u001b[0;32m---> 21\u001b[0;31m \u001b[0msum\u001b[0m\u001b[0;34m(\u001b[0m\u001b[0ma\u001b[0m\u001b[0;34m,\u001b[0m \u001b[0mb\u001b[0m\u001b[0;34m,\u001b[0m \u001b[0mc\u001b[0m\u001b[0;34m)\u001b[0m  \u001b[0;31m# Call the elementwise kernel\u001b[0m\u001b[0;34m\u001b[0m\u001b[0m\n\u001b[0m\u001b[1;32m     22\u001b[0m \u001b[0;34m\u001b[0m\u001b[0m\n\u001b[1;32m     23\u001b[0m \u001b[0mprint\u001b[0m\u001b[0;34m(\u001b[0m\u001b[0;34m\"a: {}\"\u001b[0m\u001b[0;34m.\u001b[0m\u001b[0mformat\u001b[0m\u001b[0;34m(\u001b[0m\u001b[0ma\u001b[0m\u001b[0;34m)\u001b[0m\u001b[0;34m)\u001b[0m\u001b[0;34m\u001b[0m\u001b[0m\n",
      "\u001b[0;32m~/GEXT/openclvenv3/lib/python3.6/site-packages/pyopencl/elementwise.py\u001b[0m in \u001b[0;36m__call__\u001b[0;34m(self, *args, **kwargs)\u001b[0m\n\u001b[1;32m    249\u001b[0m \u001b[0;34m\u001b[0m\u001b[0m\n\u001b[1;32m    250\u001b[0m         \u001b[0muse_range\u001b[0m \u001b[0;34m=\u001b[0m \u001b[0mrange_\u001b[0m \u001b[0;32mis\u001b[0m \u001b[0;32mnot\u001b[0m \u001b[0;32mNone\u001b[0m \u001b[0;32mor\u001b[0m \u001b[0mslice_\u001b[0m \u001b[0;32mis\u001b[0m \u001b[0;32mnot\u001b[0m \u001b[0;32mNone\u001b[0m\u001b[0;34m\u001b[0m\u001b[0m\n\u001b[0;32m--> 251\u001b[0;31m         \u001b[0mkernel\u001b[0m\u001b[0;34m,\u001b[0m \u001b[0marg_descrs\u001b[0m \u001b[0;34m=\u001b[0m \u001b[0mself\u001b[0m\u001b[0;34m.\u001b[0m\u001b[0mget_kernel\u001b[0m\u001b[0;34m(\u001b[0m\u001b[0muse_range\u001b[0m\u001b[0;34m)\u001b[0m\u001b[0;34m\u001b[0m\u001b[0m\n\u001b[0m\u001b[1;32m    252\u001b[0m \u001b[0;34m\u001b[0m\u001b[0m\n\u001b[1;32m    253\u001b[0m         \u001b[0;31m# {{{ assemble arg array\u001b[0m\u001b[0;34m\u001b[0m\u001b[0;34m\u001b[0m\u001b[0m\n",
      "\u001b[0;32m~/GEXT/openclvenv3/lib/python3.6/site-packages/pytools/__init__.py\u001b[0m in \u001b[0;36mwrapper\u001b[0;34m(obj, *args, **kwargs)\u001b[0m\n\u001b[1;32m    596\u001b[0m             \u001b[0;32mreturn\u001b[0m \u001b[0mgetattr\u001b[0m\u001b[0;34m(\u001b[0m\u001b[0mobj\u001b[0m\u001b[0;34m,\u001b[0m \u001b[0mcache_dict_name\u001b[0m\u001b[0;34m)\u001b[0m\u001b[0;34m[\u001b[0m\u001b[0mkey\u001b[0m\u001b[0;34m]\u001b[0m\u001b[0;34m\u001b[0m\u001b[0m\n\u001b[1;32m    597\u001b[0m         \u001b[0;32mexcept\u001b[0m \u001b[0mAttributeError\u001b[0m\u001b[0;34m:\u001b[0m\u001b[0;34m\u001b[0m\u001b[0m\n\u001b[0;32m--> 598\u001b[0;31m             \u001b[0mresult\u001b[0m \u001b[0;34m=\u001b[0m \u001b[0mfunction\u001b[0m\u001b[0;34m(\u001b[0m\u001b[0mobj\u001b[0m\u001b[0;34m,\u001b[0m \u001b[0;34m*\u001b[0m\u001b[0margs\u001b[0m\u001b[0;34m,\u001b[0m \u001b[0;34m**\u001b[0m\u001b[0mkwargs\u001b[0m\u001b[0;34m)\u001b[0m\u001b[0;34m\u001b[0m\u001b[0m\n\u001b[0m\u001b[1;32m    599\u001b[0m             \u001b[0msetattr\u001b[0m\u001b[0;34m(\u001b[0m\u001b[0mobj\u001b[0m\u001b[0;34m,\u001b[0m \u001b[0mcache_dict_name\u001b[0m\u001b[0;34m,\u001b[0m \u001b[0;34m{\u001b[0m\u001b[0mkey\u001b[0m\u001b[0;34m:\u001b[0m \u001b[0mresult\u001b[0m\u001b[0;34m}\u001b[0m\u001b[0;34m)\u001b[0m\u001b[0;34m\u001b[0m\u001b[0m\n\u001b[1;32m    600\u001b[0m             \u001b[0;32mreturn\u001b[0m \u001b[0mresult\u001b[0m\u001b[0;34m\u001b[0m\u001b[0m\n",
      "\u001b[0;32m~/GEXT/openclvenv3/lib/python3.6/site-packages/pyopencl/elementwise.py\u001b[0m in \u001b[0;36mget_kernel\u001b[0;34m(self, use_range)\u001b[0m\n\u001b[1;32m    222\u001b[0m             \u001b[0mself\u001b[0m\u001b[0;34m.\u001b[0m\u001b[0mcontext\u001b[0m\u001b[0;34m,\u001b[0m \u001b[0mself\u001b[0m\u001b[0;34m.\u001b[0m\u001b[0marguments\u001b[0m\u001b[0;34m,\u001b[0m \u001b[0mself\u001b[0m\u001b[0;34m.\u001b[0m\u001b[0moperation\u001b[0m\u001b[0;34m,\u001b[0m\u001b[0;34m\u001b[0m\u001b[0m\n\u001b[1;32m    223\u001b[0m             \u001b[0mname\u001b[0m\u001b[0;34m=\u001b[0m\u001b[0mself\u001b[0m\u001b[0;34m.\u001b[0m\u001b[0mname\u001b[0m\u001b[0;34m,\u001b[0m \u001b[0moptions\u001b[0m\u001b[0;34m=\u001b[0m\u001b[0mself\u001b[0m\u001b[0;34m.\u001b[0m\u001b[0moptions\u001b[0m\u001b[0;34m,\u001b[0m\u001b[0;34m\u001b[0m\u001b[0m\n\u001b[0;32m--> 224\u001b[0;31m             use_range=use_range, **self.kwargs)\n\u001b[0m\u001b[1;32m    225\u001b[0m \u001b[0;34m\u001b[0m\u001b[0m\n\u001b[1;32m    226\u001b[0m         \u001b[0;32mfor\u001b[0m \u001b[0marg\u001b[0m \u001b[0;32min\u001b[0m \u001b[0marg_descrs\u001b[0m\u001b[0;34m:\u001b[0m\u001b[0;34m\u001b[0m\u001b[0m\n",
      "\u001b[0;32m~/GEXT/openclvenv3/lib/python3.6/site-packages/pyopencl/elementwise.py\u001b[0m in \u001b[0;36mget_elwise_kernel_and_types\u001b[0;34m(context, arguments, operation, name, options, preamble, use_range, **kwargs)\u001b[0m\n\u001b[1;32m    159\u001b[0m         \u001b[0mcontext\u001b[0m\u001b[0;34m,\u001b[0m \u001b[0mparsed_args\u001b[0m\u001b[0;34m,\u001b[0m \u001b[0moperation\u001b[0m\u001b[0;34m,\u001b[0m\u001b[0;34m\u001b[0m\u001b[0m\n\u001b[1;32m    160\u001b[0m         \u001b[0mname\u001b[0m\u001b[0;34m=\u001b[0m\u001b[0mname\u001b[0m\u001b[0;34m,\u001b[0m \u001b[0moptions\u001b[0m\u001b[0;34m=\u001b[0m\u001b[0moptions\u001b[0m\u001b[0;34m,\u001b[0m \u001b[0mpreamble\u001b[0m\u001b[0;34m=\u001b[0m\u001b[0mpreamble\u001b[0m\u001b[0;34m,\u001b[0m\u001b[0;34m\u001b[0m\u001b[0m\n\u001b[0;32m--> 161\u001b[0;31m         use_range=use_range, loop_prep=loop_prep, **kwargs)\n\u001b[0m\u001b[1;32m    162\u001b[0m \u001b[0;34m\u001b[0m\u001b[0m\n\u001b[1;32m    163\u001b[0m     \u001b[0;32mfrom\u001b[0m \u001b[0mpyopencl\u001b[0m\u001b[0;34m.\u001b[0m\u001b[0mtools\u001b[0m \u001b[0;32mimport\u001b[0m \u001b[0mget_arg_list_scalar_arg_dtypes\u001b[0m\u001b[0;34m\u001b[0m\u001b[0m\n",
      "\u001b[0;32m~/GEXT/openclvenv3/lib/python3.6/site-packages/pyopencl/elementwise.py\u001b[0m in \u001b[0;36mget_elwise_program\u001b[0;34m(context, arguments, operation, name, options, preamble, loop_prep, after_loop, use_range)\u001b[0m\n\u001b[1;32m    109\u001b[0m \u001b[0;34m\u001b[0m\u001b[0m\n\u001b[1;32m    110\u001b[0m     \u001b[0;32mfrom\u001b[0m \u001b[0mpyopencl\u001b[0m \u001b[0;32mimport\u001b[0m \u001b[0mProgram\u001b[0m\u001b[0;34m\u001b[0m\u001b[0m\n\u001b[0;32m--> 111\u001b[0;31m     \u001b[0;32mreturn\u001b[0m \u001b[0mProgram\u001b[0m\u001b[0;34m(\u001b[0m\u001b[0mcontext\u001b[0m\u001b[0;34m,\u001b[0m \u001b[0msource\u001b[0m\u001b[0;34m)\u001b[0m\u001b[0;34m.\u001b[0m\u001b[0mbuild\u001b[0m\u001b[0;34m(\u001b[0m\u001b[0moptions\u001b[0m\u001b[0;34m)\u001b[0m\u001b[0;34m\u001b[0m\u001b[0m\n\u001b[0m\u001b[1;32m    112\u001b[0m \u001b[0;34m\u001b[0m\u001b[0m\n\u001b[1;32m    113\u001b[0m \u001b[0;34m\u001b[0m\u001b[0m\n",
      "\u001b[0;32m~/GEXT/openclvenv3/lib/python3.6/site-packages/pyopencl/__init__.py\u001b[0m in \u001b[0;36mbuild\u001b[0;34m(self, options, devices, cache_dir)\u001b[0m\n\u001b[1;32m    508\u001b[0m                         \u001b[0mself\u001b[0m\u001b[0;34m.\u001b[0m\u001b[0m_context\u001b[0m\u001b[0;34m,\u001b[0m \u001b[0mself\u001b[0m\u001b[0;34m.\u001b[0m\u001b[0m_source\u001b[0m\u001b[0;34m,\u001b[0m \u001b[0moptions_bytes\u001b[0m\u001b[0;34m,\u001b[0m \u001b[0mdevices\u001b[0m\u001b[0;34m,\u001b[0m\u001b[0;34m\u001b[0m\u001b[0m\n\u001b[1;32m    509\u001b[0m                         cache_dir=cache_dir, include_path=include_path),\n\u001b[0;32m--> 510\u001b[0;31m                     options_bytes=options_bytes, source=self._source)\n\u001b[0m\u001b[1;32m    511\u001b[0m \u001b[0;34m\u001b[0m\u001b[0m\n\u001b[1;32m    512\u001b[0m             \u001b[0;32mif\u001b[0m \u001b[0mwas_cached\u001b[0m\u001b[0;34m:\u001b[0m\u001b[0;34m\u001b[0m\u001b[0m\n",
      "\u001b[0;32m~/GEXT/openclvenv3/lib/python3.6/site-packages/pyopencl/__init__.py\u001b[0m in \u001b[0;36m_build_and_catch_errors\u001b[0;34m(self, build_func, options_bytes, source)\u001b[0m\n\u001b[1;32m    552\u001b[0m         \u001b[0;31m# Python 3.2 outputs the whole list of currently active exceptions\u001b[0m\u001b[0;34m\u001b[0m\u001b[0;34m\u001b[0m\u001b[0m\n\u001b[1;32m    553\u001b[0m         \u001b[0;31m# This serves to remove one (redundant) level from that nesting.\u001b[0m\u001b[0;34m\u001b[0m\u001b[0;34m\u001b[0m\u001b[0m\n\u001b[0;32m--> 554\u001b[0;31m         \u001b[0;32mraise\u001b[0m \u001b[0merr\u001b[0m\u001b[0;34m\u001b[0m\u001b[0m\n\u001b[0m\u001b[1;32m    555\u001b[0m \u001b[0;34m\u001b[0m\u001b[0m\n\u001b[1;32m    556\u001b[0m     \u001b[0;31m# }}}\u001b[0m\u001b[0;34m\u001b[0m\u001b[0;34m\u001b[0m\u001b[0m\n",
      "\u001b[0;31mRuntimeError\u001b[0m: clBuildProgram failed: BUILD_PROGRAM_FAILURE - clBuildProgram failed: BUILD_PROGRAM_FAILURE - clBuildProgram failed: BUILD_PROGRAM_FAILURE\n\nBuild on <pyopencl.Device 'Intel(R) Core(TM) i5-6267U CPU @ 2.90GHz' on 'Apple' at 0xffffffff>:\n\n\n(options: -I /Volumes/G-DRIVE/openclvenv3/lib/python3.6/site-packages/pyopencl/cl)\n(source saved as /var/folders/75/c7jj66b91pj281kdc3hrn5_r0000gn/T/tmpeyjw8rxj.cl)"
     ]
    }
   ],
   "source": [
    "\n",
    "# Use OpenCL To Add Two Random Arrays (Using PyOpenCL Arrays and Elementwise)\n",
    "\n",
    "import pyopencl as cl  # Import the OpenCL GPU computing API\n",
    "import pyopencl.array as cl_array  # Import PyOpenCL Array (a Numpy array plus an OpenCL buffer object)\n",
    "import numpy  # Import Numpy number tools\n",
    "\n",
    "context = cl.create_some_context()  # Initialize the Context\n",
    "queue = cl.CommandQueue(context)  # Instantiate a Queue\n",
    "\n",
    "a = cl_array.to_device(queue, numpy.random.randn(10).astype(numpy.float32))  # Create a random pyopencl array\n",
    "b = cl_array.to_device(queue, numpy.random.randn(10).astype(numpy.float32))  # Create a random pyopencl array\n",
    "c = cl_array.empty_like(a)  # Create an empty pyopencl destination array\n",
    "print(a.shape)\n",
    "sum = cl.elementwise.ElementwiseKernel(context, \"float *a, float *b, float *c\", \"c[i] = a[i] + b[i]\", \"sum\")\n",
    "# Create an elementwise kernel object\n",
    "#  - Arguments: a string formatted as a C argument list\n",
    "#  - Operation: a snippet of C that carries out the desired map operatino\n",
    "#  - Name: the fuction name as which the kernel is compiled\n",
    "\n",
    "sum(a, b, c)  # Call the elementwise kernel\n",
    "\n",
    "print(\"a: {}\".format(a))\n",
    "print(\"b: {}\".format(b))\n",
    "print(\"c: {}\".format(c))"
   ]
  },
  {
   "cell_type": "code",
   "execution_count": null,
   "metadata": {},
   "outputs": [],
   "source": []
  }
 ],
 "metadata": {
  "kernelspec": {
   "display_name": "Python 3",
   "language": "python",
   "name": "python3"
  },
  "language_info": {
   "codemirror_mode": {
    "name": "ipython",
    "version": 3
   },
   "file_extension": ".py",
   "mimetype": "text/x-python",
   "name": "python",
   "nbconvert_exporter": "python",
   "pygments_lexer": "ipython3",
   "version": "3.6.5"
  }
 },
 "nbformat": 4,
 "nbformat_minor": 2
}
